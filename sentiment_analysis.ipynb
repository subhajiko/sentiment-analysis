{
 "cells": [
  {
   "cell_type": "markdown",
   "id": "ee6c4ba7-8dec-4912-9562-54d0639b7fbc",
   "metadata": {},
   "source": [
    "## Importing The Libraries"
   ]
  },
  {
   "cell_type": "code",
   "execution_count": 1,
   "id": "52866723-52bb-4d97-806a-1a23ef28149d",
   "metadata": {},
   "outputs": [],
   "source": [
    "import tensorflow as tf\n",
    "import pandas as pd\n",
    "import matplotlib as mplib\n",
    "import matplotlib.pyplot as plt\n",
    "from sklearn.model_selection import train_test_split\n",
    "from tqdm import tqdm\n",
    "tqdm.pandas()\n",
    "from tensorflow.keras.preprocessing.sequence import pad_sequences\n",
    "from tensorflow.keras.preprocessing.text import Tokenizer\n",
    "from sklearn.model_seletion import train_test_split"
   ]
  },
  {
   "cell_type": "code",
   "execution_count": 2,
   "id": "e360559d-2672-4363-8e1b-ac0e1c181aea",
   "metadata": {},
   "outputs": [
    {
     "data": {
      "text/plain": [
       "'2.4.1'"
      ]
     },
     "execution_count": 2,
     "metadata": {},
     "output_type": "execute_result"
    }
   ],
   "source": [
    "tf.__version__"
   ]
  },
  {
   "cell_type": "markdown",
   "id": "105c06a7-5bea-44af-b8a6-af29f4b07ce1",
   "metadata": {},
   "source": [
    "## Loading The Dataset"
   ]
  },
  {
   "cell_type": "code",
   "execution_count": 3,
   "id": "6e1fad45-819e-4d72-b383-45f9bf1287d7",
   "metadata": {},
   "outputs": [
    {
     "data": {
      "text/plain": [
       "'1.3.0'"
      ]
     },
     "execution_count": 3,
     "metadata": {},
     "output_type": "execute_result"
    }
   ],
   "source": [
    "pd.__version__"
   ]
  },
  {
   "cell_type": "code",
   "execution_count": 4,
   "id": "49dda83d-b7f6-4a0b-9704-a4a583b853bf",
   "metadata": {},
   "outputs": [
    {
     "data": {
      "text/plain": [
       "'3.4.2'"
      ]
     },
     "execution_count": 4,
     "metadata": {},
     "output_type": "execute_result"
    }
   ],
   "source": [
    "mplib.__version__"
   ]
  },
  {
   "cell_type": "code",
   "execution_count": 5,
   "id": "fc22fb32-ee6c-4ffc-83b6-2afe6fa96e88",
   "metadata": {},
   "outputs": [],
   "source": [
    "data = pd.read_csv(\"./sentiment labelled sentences/amazon_cells_labelled.txt\", delimiter=\"\\t\", header=None)"
   ]
  },
  {
   "cell_type": "code",
   "execution_count": 6,
   "id": "86cb0565-f9de-4f29-8708-b2d886c95c17",
   "metadata": {},
   "outputs": [
    {
     "data": {
      "text/html": [
       "<div>\n",
       "<style scoped>\n",
       "    .dataframe tbody tr th:only-of-type {\n",
       "        vertical-align: middle;\n",
       "    }\n",
       "\n",
       "    .dataframe tbody tr th {\n",
       "        vertical-align: top;\n",
       "    }\n",
       "\n",
       "    .dataframe thead th {\n",
       "        text-align: right;\n",
       "    }\n",
       "</style>\n",
       "<table border=\"1\" class=\"dataframe\">\n",
       "  <thead>\n",
       "    <tr style=\"text-align: right;\">\n",
       "      <th></th>\n",
       "      <th>0</th>\n",
       "      <th>1</th>\n",
       "    </tr>\n",
       "  </thead>\n",
       "  <tbody>\n",
       "    <tr>\n",
       "      <th>0</th>\n",
       "      <td>So there is no way for me to plug it in here i...</td>\n",
       "      <td>0</td>\n",
       "    </tr>\n",
       "    <tr>\n",
       "      <th>1</th>\n",
       "      <td>Good case, Excellent value.</td>\n",
       "      <td>1</td>\n",
       "    </tr>\n",
       "    <tr>\n",
       "      <th>2</th>\n",
       "      <td>Great for the jawbone.</td>\n",
       "      <td>1</td>\n",
       "    </tr>\n",
       "    <tr>\n",
       "      <th>3</th>\n",
       "      <td>Tied to charger for conversations lasting more...</td>\n",
       "      <td>0</td>\n",
       "    </tr>\n",
       "    <tr>\n",
       "      <th>4</th>\n",
       "      <td>The mic is great.</td>\n",
       "      <td>1</td>\n",
       "    </tr>\n",
       "    <tr>\n",
       "      <th>...</th>\n",
       "      <td>...</td>\n",
       "      <td>...</td>\n",
       "    </tr>\n",
       "    <tr>\n",
       "      <th>995</th>\n",
       "      <td>The screen does get smudged easily because it ...</td>\n",
       "      <td>0</td>\n",
       "    </tr>\n",
       "    <tr>\n",
       "      <th>996</th>\n",
       "      <td>What a piece of junk.. I lose more calls on th...</td>\n",
       "      <td>0</td>\n",
       "    </tr>\n",
       "    <tr>\n",
       "      <th>997</th>\n",
       "      <td>Item Does Not Match Picture.</td>\n",
       "      <td>0</td>\n",
       "    </tr>\n",
       "    <tr>\n",
       "      <th>998</th>\n",
       "      <td>The only thing that disappoint me is the infra...</td>\n",
       "      <td>0</td>\n",
       "    </tr>\n",
       "    <tr>\n",
       "      <th>999</th>\n",
       "      <td>You can not answer calls with the unit, never ...</td>\n",
       "      <td>0</td>\n",
       "    </tr>\n",
       "  </tbody>\n",
       "</table>\n",
       "<p>1000 rows × 2 columns</p>\n",
       "</div>"
      ],
      "text/plain": [
       "                                                     0  1\n",
       "0    So there is no way for me to plug it in here i...  0\n",
       "1                          Good case, Excellent value.  1\n",
       "2                               Great for the jawbone.  1\n",
       "3    Tied to charger for conversations lasting more...  0\n",
       "4                                    The mic is great.  1\n",
       "..                                                 ... ..\n",
       "995  The screen does get smudged easily because it ...  0\n",
       "996  What a piece of junk.. I lose more calls on th...  0\n",
       "997                       Item Does Not Match Picture.  0\n",
       "998  The only thing that disappoint me is the infra...  0\n",
       "999  You can not answer calls with the unit, never ...  0\n",
       "\n",
       "[1000 rows x 2 columns]"
      ]
     },
     "execution_count": 6,
     "metadata": {},
     "output_type": "execute_result"
    }
   ],
   "source": [
    "data"
   ]
  },
  {
   "cell_type": "code",
   "execution_count": 7,
   "id": "19407798-826b-4d58-bb12-1272efe657ba",
   "metadata": {},
   "outputs": [
    {
     "data": {
      "text/html": [
       "<div>\n",
       "<style scoped>\n",
       "    .dataframe tbody tr th:only-of-type {\n",
       "        vertical-align: middle;\n",
       "    }\n",
       "\n",
       "    .dataframe tbody tr th {\n",
       "        vertical-align: top;\n",
       "    }\n",
       "\n",
       "    .dataframe thead th {\n",
       "        text-align: right;\n",
       "    }\n",
       "</style>\n",
       "<table border=\"1\" class=\"dataframe\">\n",
       "  <thead>\n",
       "    <tr style=\"text-align: right;\">\n",
       "      <th></th>\n",
       "      <th>0</th>\n",
       "      <th>1</th>\n",
       "    </tr>\n",
       "  </thead>\n",
       "  <tbody>\n",
       "    <tr>\n",
       "      <th>0</th>\n",
       "      <td>So there is no way for me to plug it in here i...</td>\n",
       "      <td>0</td>\n",
       "    </tr>\n",
       "    <tr>\n",
       "      <th>1</th>\n",
       "      <td>Good case, Excellent value.</td>\n",
       "      <td>1</td>\n",
       "    </tr>\n",
       "    <tr>\n",
       "      <th>2</th>\n",
       "      <td>Great for the jawbone.</td>\n",
       "      <td>1</td>\n",
       "    </tr>\n",
       "    <tr>\n",
       "      <th>3</th>\n",
       "      <td>Tied to charger for conversations lasting more...</td>\n",
       "      <td>0</td>\n",
       "    </tr>\n",
       "    <tr>\n",
       "      <th>4</th>\n",
       "      <td>The mic is great.</td>\n",
       "      <td>1</td>\n",
       "    </tr>\n",
       "  </tbody>\n",
       "</table>\n",
       "</div>"
      ],
      "text/plain": [
       "                                                   0  1\n",
       "0  So there is no way for me to plug it in here i...  0\n",
       "1                        Good case, Excellent value.  1\n",
       "2                             Great for the jawbone.  1\n",
       "3  Tied to charger for conversations lasting more...  0\n",
       "4                                  The mic is great.  1"
      ]
     },
     "execution_count": 7,
     "metadata": {},
     "output_type": "execute_result"
    }
   ],
   "source": [
    "data.head()"
   ]
  },
  {
   "cell_type": "code",
   "execution_count": 8,
   "id": "a13c279f-168f-42b2-bf71-83d85ffe8484",
   "metadata": {},
   "outputs": [
    {
     "data": {
      "text/html": [
       "<div>\n",
       "<style scoped>\n",
       "    .dataframe tbody tr th:only-of-type {\n",
       "        vertical-align: middle;\n",
       "    }\n",
       "\n",
       "    .dataframe tbody tr th {\n",
       "        vertical-align: top;\n",
       "    }\n",
       "\n",
       "    .dataframe thead th {\n",
       "        text-align: right;\n",
       "    }\n",
       "</style>\n",
       "<table border=\"1\" class=\"dataframe\">\n",
       "  <thead>\n",
       "    <tr style=\"text-align: right;\">\n",
       "      <th></th>\n",
       "      <th>0</th>\n",
       "      <th>1</th>\n",
       "    </tr>\n",
       "  </thead>\n",
       "  <tbody>\n",
       "    <tr>\n",
       "      <th>995</th>\n",
       "      <td>The screen does get smudged easily because it ...</td>\n",
       "      <td>0</td>\n",
       "    </tr>\n",
       "    <tr>\n",
       "      <th>996</th>\n",
       "      <td>What a piece of junk.. I lose more calls on th...</td>\n",
       "      <td>0</td>\n",
       "    </tr>\n",
       "    <tr>\n",
       "      <th>997</th>\n",
       "      <td>Item Does Not Match Picture.</td>\n",
       "      <td>0</td>\n",
       "    </tr>\n",
       "    <tr>\n",
       "      <th>998</th>\n",
       "      <td>The only thing that disappoint me is the infra...</td>\n",
       "      <td>0</td>\n",
       "    </tr>\n",
       "    <tr>\n",
       "      <th>999</th>\n",
       "      <td>You can not answer calls with the unit, never ...</td>\n",
       "      <td>0</td>\n",
       "    </tr>\n",
       "  </tbody>\n",
       "</table>\n",
       "</div>"
      ],
      "text/plain": [
       "                                                     0  1\n",
       "995  The screen does get smudged easily because it ...  0\n",
       "996  What a piece of junk.. I lose more calls on th...  0\n",
       "997                       Item Does Not Match Picture.  0\n",
       "998  The only thing that disappoint me is the infra...  0\n",
       "999  You can not answer calls with the unit, never ...  0"
      ]
     },
     "execution_count": 8,
     "metadata": {},
     "output_type": "execute_result"
    }
   ],
   "source": [
    "data.tail()"
   ]
  },
  {
   "cell_type": "code",
   "execution_count": 9,
   "id": "19716a49-b0bf-45d1-acee-577ecb15b3d2",
   "metadata": {},
   "outputs": [
    {
     "name": "stdout",
     "output_type": "stream",
     "text": [
      "<class 'pandas.core.frame.DataFrame'>\n",
      "RangeIndex: 1000 entries, 0 to 999\n",
      "Data columns (total 2 columns):\n",
      " #   Column  Non-Null Count  Dtype \n",
      "---  ------  --------------  ----- \n",
      " 0   0       1000 non-null   object\n",
      " 1   1       1000 non-null   int64 \n",
      "dtypes: int64(1), object(1)\n",
      "memory usage: 15.8+ KB\n"
     ]
    }
   ],
   "source": [
    "data.info()"
   ]
  },
  {
   "cell_type": "code",
   "execution_count": 10,
   "id": "58100fcc-09b9-4657-b18b-121ca6fbde15",
   "metadata": {},
   "outputs": [
    {
     "data": {
      "text/html": [
       "<div>\n",
       "<style scoped>\n",
       "    .dataframe tbody tr th:only-of-type {\n",
       "        vertical-align: middle;\n",
       "    }\n",
       "\n",
       "    .dataframe tbody tr th {\n",
       "        vertical-align: top;\n",
       "    }\n",
       "\n",
       "    .dataframe thead th {\n",
       "        text-align: right;\n",
       "    }\n",
       "</style>\n",
       "<table border=\"1\" class=\"dataframe\">\n",
       "  <thead>\n",
       "    <tr style=\"text-align: right;\">\n",
       "      <th></th>\n",
       "      <th>1</th>\n",
       "    </tr>\n",
       "  </thead>\n",
       "  <tbody>\n",
       "    <tr>\n",
       "      <th>count</th>\n",
       "      <td>1000.00000</td>\n",
       "    </tr>\n",
       "    <tr>\n",
       "      <th>mean</th>\n",
       "      <td>0.50000</td>\n",
       "    </tr>\n",
       "    <tr>\n",
       "      <th>std</th>\n",
       "      <td>0.50025</td>\n",
       "    </tr>\n",
       "    <tr>\n",
       "      <th>min</th>\n",
       "      <td>0.00000</td>\n",
       "    </tr>\n",
       "    <tr>\n",
       "      <th>25%</th>\n",
       "      <td>0.00000</td>\n",
       "    </tr>\n",
       "    <tr>\n",
       "      <th>50%</th>\n",
       "      <td>0.50000</td>\n",
       "    </tr>\n",
       "    <tr>\n",
       "      <th>75%</th>\n",
       "      <td>1.00000</td>\n",
       "    </tr>\n",
       "    <tr>\n",
       "      <th>max</th>\n",
       "      <td>1.00000</td>\n",
       "    </tr>\n",
       "  </tbody>\n",
       "</table>\n",
       "</div>"
      ],
      "text/plain": [
       "                1\n",
       "count  1000.00000\n",
       "mean      0.50000\n",
       "std       0.50025\n",
       "min       0.00000\n",
       "25%       0.00000\n",
       "50%       0.50000\n",
       "75%       1.00000\n",
       "max       1.00000"
      ]
     },
     "execution_count": 10,
     "metadata": {},
     "output_type": "execute_result"
    }
   ],
   "source": [
    "data.describe()"
   ]
  },
  {
   "cell_type": "code",
   "execution_count": 11,
   "id": "8bbfd93a-8ec8-4cab-8592-f44a190bf56a",
   "metadata": {},
   "outputs": [
    {
     "data": {
      "text/plain": [
       "<bound method DataFrame.value_counts of                                                      0  1\n",
       "0    So there is no way for me to plug it in here i...  0\n",
       "1                          Good case, Excellent value.  1\n",
       "2                               Great for the jawbone.  1\n",
       "3    Tied to charger for conversations lasting more...  0\n",
       "4                                    The mic is great.  1\n",
       "..                                                 ... ..\n",
       "995  The screen does get smudged easily because it ...  0\n",
       "996  What a piece of junk.. I lose more calls on th...  0\n",
       "997                       Item Does Not Match Picture.  0\n",
       "998  The only thing that disappoint me is the infra...  0\n",
       "999  You can not answer calls with the unit, never ...  0\n",
       "\n",
       "[1000 rows x 2 columns]>"
      ]
     },
     "execution_count": 11,
     "metadata": {},
     "output_type": "execute_result"
    }
   ],
   "source": [
    "data.value_counts"
   ]
  },
  {
   "cell_type": "code",
   "execution_count": 12,
   "id": "aab388e5-8246-4198-b5e1-0316daf349d9",
   "metadata": {},
   "outputs": [],
   "source": [
    "import numpy as np"
   ]
  },
  {
   "cell_type": "code",
   "execution_count": 13,
   "id": "b0ef04ea-6346-47c5-abaf-da2bcd8b8357",
   "metadata": {},
   "outputs": [
    {
     "data": {
      "text/plain": [
       "'1.19.5'"
      ]
     },
     "execution_count": 13,
     "metadata": {},
     "output_type": "execute_result"
    }
   ],
   "source": [
    "np.__version__"
   ]
  },
  {
   "cell_type": "code",
   "execution_count": 14,
   "id": "56900fba-4ea8-4dfd-9bcd-24d91bc94ec6",
   "metadata": {},
   "outputs": [
    {
     "data": {
      "text/plain": [
       "56.824"
      ]
     },
     "execution_count": 14,
     "metadata": {},
     "output_type": "execute_result"
    }
   ],
   "source": [
    "np.mean([len(row[0]) for index, row in data.iterrows() if row[1] is 0])    "
   ]
  },
  {
   "cell_type": "code",
   "execution_count": 15,
   "id": "f1b9732f-ef4e-4637-89e8-3069b69728b8",
   "metadata": {},
   "outputs": [
    {
     "data": {
      "text/plain": [
       "53.628"
      ]
     },
     "execution_count": 15,
     "metadata": {},
     "output_type": "execute_result"
    }
   ],
   "source": [
    "np.mean([len(row[0]) for index, row in data.iterrows() if row[1] is 1])    "
   ]
  },
  {
   "cell_type": "code",
   "execution_count": 16,
   "id": "d8e32e8f-d677-4abb-b366-60c5dbe3b7ed",
   "metadata": {},
   "outputs": [
    {
     "data": {
      "text/plain": [
       "500"
      ]
     },
     "execution_count": 16,
     "metadata": {},
     "output_type": "execute_result"
    }
   ],
   "source": [
    "len([len(row[0]) for index, row in data.iterrows() if row[1] is 0])    "
   ]
  },
  {
   "cell_type": "code",
   "execution_count": 17,
   "id": "622c9a6e-5d47-4330-8213-6f958d85355c",
   "metadata": {},
   "outputs": [
    {
     "data": {
      "text/plain": [
       "0    object\n",
       "1     int64\n",
       "dtype: object"
      ]
     },
     "execution_count": 17,
     "metadata": {},
     "output_type": "execute_result"
    }
   ],
   "source": [
    "data.dtypes"
   ]
  },
  {
   "cell_type": "code",
   "execution_count": 18,
   "id": "79a26660-79b3-4c08-b2b8-b035d5b9fd28",
   "metadata": {},
   "outputs": [
    {
     "data": {
      "text/plain": [
       "(1000, 2)"
      ]
     },
     "execution_count": 18,
     "metadata": {},
     "output_type": "execute_result"
    }
   ],
   "source": [
    "data.shape"
   ]
  },
  {
   "cell_type": "code",
   "execution_count": 19,
   "id": "1f28d5c6-8dde-4b72-82fa-842af902b5ca",
   "metadata": {},
   "outputs": [
    {
     "data": {
      "text/plain": [
       "Int64Index([0, 1], dtype='int64')"
      ]
     },
     "execution_count": 19,
     "metadata": {},
     "output_type": "execute_result"
    }
   ],
   "source": [
    "data.columns"
   ]
  },
  {
   "cell_type": "code",
   "execution_count": 20,
   "id": "9e621f7d-41b7-45c9-bf48-b108218b8624",
   "metadata": {},
   "outputs": [
    {
     "data": {
      "text/plain": [
       "0    0\n",
       "1    0\n",
       "dtype: int64"
      ]
     },
     "execution_count": 20,
     "metadata": {},
     "output_type": "execute_result"
    }
   ],
   "source": [
    "data.isnull().sum()"
   ]
  },
  {
   "cell_type": "markdown",
   "id": "03e557f0-e512-44dd-84c7-2b3ee6728c27",
   "metadata": {},
   "source": [
    "## Exploratory Data Analysis"
   ]
  },
  {
   "cell_type": "code",
   "execution_count": 21,
   "id": "76d98596-fc71-441c-bba1-4ef102e96733",
   "metadata": {},
   "outputs": [
    {
     "data": {
      "text/plain": [
       "<AxesSubplot:xlabel='1'>"
      ]
     },
     "execution_count": 21,
     "metadata": {},
     "output_type": "execute_result"
    },
    {
     "data": {
      "image/png": "[encoded data removed]",
      "text/plain": [
       "<Figure size 432x288 with 1 Axes>"
      ]
     },
     "metadata": {
      "needs_background": "light"
     },
     "output_type": "display_data"
    }
   ],
   "source": [
    "data.groupby(1).count().plot(kind='bar')"
   ]
  },
  {
   "cell_type": "markdown",
   "id": "7e0cb4d1-e871-4a8b-864b-eb28fc327dac",
   "metadata": {},
   "source": [
    "### Word count distribution for all the text"
   ]
  },
  {
   "cell_type": "code",
   "execution_count": 22,
   "id": "6c797f25-0109-45e9-afad-3fcb0748412f",
   "metadata": {},
   "outputs": [],
   "source": [
    "text_length = pd.Series([len(row.split()) for row in data[0]])"
   ]
  },
  {
   "cell_type": "code",
   "execution_count": 23,
   "id": "b58540e6-3291-47f4-88a2-30a841db2164",
   "metadata": {},
   "outputs": [
    {
     "data": {
      "text/plain": [
       "<AxesSubplot:>"
      ]
     },
     "execution_count": 23,
     "metadata": {},
     "output_type": "execute_result"
    },
    {
     "data": {
      "image/png": "[encoded data removed]",
      "text/plain": [
       "<Figure size 432x288 with 1 Axes>"
      ]
     },
     "metadata": {
      "needs_background": "light"
     },
     "output_type": "display_data"
    }
   ],
   "source": [
    "text_length.plot(kind = \"box\")"
   ]
  },
  {
   "cell_type": "markdown",
   "id": "f4c8424b-195d-4be9-968d-ac4b7596a8f8",
   "metadata": {},
   "source": [
    "### Word count distribution for postive texts"
   ]
  },
  {
   "cell_type": "code",
   "execution_count": 24,
   "id": "e8d33bcc-e6f1-4689-9aef-b72aa85f39a2",
   "metadata": {},
   "outputs": [],
   "source": [
    "pos_text_length = pd.Series([len(row[0].split()) for index, row in data.iterrows() if row[1] is 1])"
   ]
  },
  {
   "cell_type": "code",
   "execution_count": 25,
   "id": "781c43fc-56b1-4521-8495-2940c0e68b3c",
   "metadata": {},
   "outputs": [
    {
     "data": {
      "text/plain": [
       "<AxesSubplot:>"
      ]
     },
     "execution_count": 25,
     "metadata": {},
     "output_type": "execute_result"
    },
    {
     "data": {
      "image/png": "[encoded data removed]",
      "text/plain": [
       "<Figure size 432x288 with 1 Axes>"
      ]
     },
     "metadata": {
      "needs_background": "light"
     },
     "output_type": "display_data"
    }
   ],
   "source": [
    "pos_text_length.plot(kind = \"box\")"
   ]
  },
  {
   "cell_type": "markdown",
   "id": "ab5b8cbf-8df4-4224-9cce-77902e2e1096",
   "metadata": {},
   "source": [
    "### Word count distribution for negative texts"
   ]
  },
  {
   "cell_type": "code",
   "execution_count": 26,
   "id": "f1ebba78-f62b-4328-8227-9fad9db153b4",
   "metadata": {},
   "outputs": [],
   "source": [
    "neg_text_length = pd.Series([len(row[0].split()) for index, row in data.iterrows() if row[1] is 0])"
   ]
  },
  {
   "cell_type": "code",
   "execution_count": 27,
   "id": "a2b86e63-0dc8-4489-b6e5-64896922010b",
   "metadata": {},
   "outputs": [
    {
     "data": {
      "text/plain": [
       "<AxesSubplot:>"
      ]
     },
     "execution_count": 27,
     "metadata": {},
     "output_type": "execute_result"
    },
    {
     "data": {
      "image/png": "[encoded data removed]",
      "text/plain": [
       "<Figure size 432x288 with 1 Axes>"
      ]
     },
     "metadata": {
      "needs_background": "light"
     },
     "output_type": "display_data"
    }
   ],
   "source": [
    "neg_text_length.plot(kind = \"box\")"
   ]
  },
  {
   "cell_type": "markdown",
   "id": "88c24346-c85f-49c4-8f87-6bd84c43d117",
   "metadata": {},
   "source": [
    "### Word count histogram"
   ]
  },
  {
   "cell_type": "code",
   "execution_count": 28,
   "id": "aeb6b75e-301e-48b7-8cd4-27b97b2a85cc",
   "metadata": {},
   "outputs": [],
   "source": [
    "import seaborn as sb"
   ]
  },
  {
   "cell_type": "code",
   "execution_count": 29,
   "id": "b86adf07-6be9-4717-9437-4814dc25f9d8",
   "metadata": {},
   "outputs": [
    {
     "data": {
      "text/plain": [
       "'0.11.1'"
      ]
     },
     "execution_count": 29,
     "metadata": {},
     "output_type": "execute_result"
    }
   ],
   "source": [
    "sb.__version__"
   ]
  },
  {
   "cell_type": "code",
   "execution_count": 30,
   "id": "0568d96d-1ead-486a-987d-93d5c5d8fd89",
   "metadata": {},
   "outputs": [
    {
     "data": {
      "image/png": "[encoded data removed]",
      "text/plain": [
       "<Figure size 1008x504 with 2 Axes>"
      ]
     },
     "metadata": {
      "needs_background": "light"
     },
     "output_type": "display_data"
    }
   ],
   "source": [
    "fig, (ax1, ax2) = plt.subplots(1, 2)\n",
    "fig.set_size_inches(14, 7)\n",
    "sb.histplot([len(row[0].split()) for index, row in data.iterrows() if row[1] is 1], ax = ax1, color=\"green\")\n",
    "sb.histplot([len(row[0].split()) for index, row in data.iterrows() if row[1] is 0], ax = ax2, color=\"red\")\n",
    "plt.show()"
   ]
  },
  {
   "cell_type": "code",
   "execution_count": 31,
   "id": "478e0fce-c223-4834-9871-7a681e4cb579",
   "metadata": {},
   "outputs": [],
   "source": [
    "from wordcloud import WordCloud, STOPWORDS"
   ]
  },
  {
   "cell_type": "code",
   "execution_count": 32,
   "id": "0368cfeb-d95c-48f3-bf72-ecfb89d72988",
   "metadata": {},
   "outputs": [],
   "source": [
    "wc = WordCloud(background_color=\"white\", max_words=40, stopwords=STOPWORDS)"
   ]
  },
  {
   "cell_type": "code",
   "execution_count": 33,
   "id": "b0c77d7e-9c56-4304-9098-e13190a66094",
   "metadata": {},
   "outputs": [
    {
     "data": {
      "text/plain": [
       "Text(0.5, 1.0, 'Negative Sentiment Words')"
      ]
     },
     "execution_count": 33,
     "metadata": {},
     "output_type": "execute_result"
    },
    {
     "data": {
      "image/png": "[encoded data removed]",
      "text/plain": [
       "<Figure size 720x504 with 1 Axes>"
      ]
     },
     "metadata": {
      "needs_background": "light"
     },
     "output_type": "display_data"
    },
    {
     "data": {
      "image/png": "[encoded data removed]",
      "text/plain": [
       "<Figure size 720x504 with 1 Axes>"
      ]
     },
     "metadata": {
      "needs_background": "light"
     },
     "output_type": "display_data"
    }
   ],
   "source": [
    "fig, _ = plt.subplots()\n",
    "fig.set_size_inches(10, 7)\n",
    "plt.imshow(wc.generate(\" \".join([row[0] for index, row in data.iterrows() if row[1] is 1])))\n",
    "plt.title(\"Positive Sentiment Words\", fontsize=20)\n",
    "\n",
    "# ================================================================\n",
    "\n",
    "fig, _ = plt.subplots()\n",
    "fig.set_size_inches(10, 7)\n",
    "plt.imshow(wc.generate(\" \".join([row[0] for index, row in data.iterrows() if row[1] is 0])))\n",
    "plt.title(\"Negative Sentiment Words\", fontsize=20)"
   ]
  },
  {
   "cell_type": "markdown",
   "id": "3ec92b22-ab9a-4b8b-ac06-8dac57b98f9c",
   "metadata": {},
   "source": [
    "### Data Preprocessing"
   ]
  },
  {
   "cell_type": "code",
   "execution_count": 34,
   "id": "a769463b-1f99-4ea6-86c8-cce986e4cca1",
   "metadata": {},
   "outputs": [],
   "source": [
    "import re"
   ]
  },
  {
   "cell_type": "code",
   "execution_count": 35,
   "id": "0dcd3f8c-92be-4adb-ae5e-0438a25d79a1",
   "metadata": {},
   "outputs": [
    {
     "data": {
      "text/plain": [
       "'2.2.1'"
      ]
     },
     "execution_count": 35,
     "metadata": {},
     "output_type": "execute_result"
    }
   ],
   "source": [
    "re.__version__"
   ]
  },
  {
   "cell_type": "markdown",
   "id": "09dd3b17-1f65-40b3-bd6f-37cb5953badd",
   "metadata": {},
   "source": [
    "#### Removing special chars"
   ]
  },
  {
   "cell_type": "code",
   "execution_count": 36,
   "id": "f5e41851-9586-4a13-9b05-88c90bd24e06",
   "metadata": {},
   "outputs": [],
   "source": [
    "texts = data[0].apply(lambda x: re.sub(r\"[^a-zA-Z0-9\\s]\", \"\", x))"
   ]
  },
  {
   "cell_type": "code",
   "execution_count": 37,
   "id": "19018eb8-b171-4046-839b-c615d306d1f1",
   "metadata": {},
   "outputs": [
    {
     "data": {
      "text/plain": [
       "'So there is no way for me to plug it in here in the US unless I go by a converter'"
      ]
     },
     "execution_count": 37,
     "metadata": {},
     "output_type": "execute_result"
    }
   ],
   "source": [
    "texts[0]"
   ]
  },
  {
   "cell_type": "code",
   "execution_count": 38,
   "id": "8bc4ceaf-210b-4219-9ed7-5965d6bf8cbc",
   "metadata": {},
   "outputs": [
    {
     "data": {
      "text/plain": [
       "'So there is no way for me to plug it in here in the US unless I go by a converter.'"
      ]
     },
     "execution_count": 38,
     "metadata": {},
     "output_type": "execute_result"
    }
   ],
   "source": [
    "data[0][0]"
   ]
  },
  {
   "cell_type": "markdown",
   "id": "0181cf3d-6c74-4998-8ee9-ae6cae43ed76",
   "metadata": {},
   "source": [
    "#### Text to Word"
   ]
  },
  {
   "cell_type": "code",
   "execution_count": 39,
   "id": "463c5bf7-566e-41e2-be6d-61561f9f586b",
   "metadata": {},
   "outputs": [],
   "source": [
    "words = [text.split() for text in texts]"
   ]
  },
  {
   "cell_type": "code",
   "execution_count": 40,
   "id": "0d424def-8377-4ca0-b942-72979975abb4",
   "metadata": {},
   "outputs": [
    {
     "data": {
      "text/plain": [
       "['So',\n",
       " 'there',\n",
       " 'is',\n",
       " 'no',\n",
       " 'way',\n",
       " 'for',\n",
       " 'me',\n",
       " 'to',\n",
       " 'plug',\n",
       " 'it',\n",
       " 'in',\n",
       " 'here',\n",
       " 'in',\n",
       " 'the',\n",
       " 'US',\n",
       " 'unless',\n",
       " 'I',\n",
       " 'go',\n",
       " 'by',\n",
       " 'a',\n",
       " 'converter']"
      ]
     },
     "execution_count": 40,
     "metadata": {},
     "output_type": "execute_result"
    }
   ],
   "source": [
    "words[0]"
   ]
  },
  {
   "cell_type": "code",
   "execution_count": 41,
   "id": "7c4a01b7-5789-44e1-9954-dd42c7d26fca",
   "metadata": {},
   "outputs": [
    {
     "name": "stderr",
     "output_type": "stream",
     "text": [
      "[nltk_data] Downloading package stopwords to\n",
      "[nltk_data]     /Users/i310044/nltk_data...\n",
      "[nltk_data]   Package stopwords is already up-to-date!\n"
     ]
    },
    {
     "data": {
      "text/plain": [
       "True"
      ]
     },
     "execution_count": 41,
     "metadata": {},
     "output_type": "execute_result"
    }
   ],
   "source": [
    "import nltk\n",
    "import ssl\n",
    "\n",
    "try:\n",
    "    _create_unverified_https_context = ssl._create_unverified_context\n",
    "except AttributeError:\n",
    "    pass\n",
    "else:\n",
    "    ssl._create_default_https_context = _create_unverified_https_context\n",
    "nltk.download(\"stopwords\")"
   ]
  },
  {
   "cell_type": "code",
   "execution_count": 42,
   "id": "a63d4924-81eb-4cbb-b221-1ad72c94953d",
   "metadata": {},
   "outputs": [],
   "source": [
    "from nltk.corpus import stopwords\n",
    "from nltk.stem.porter import *"
   ]
  },
  {
   "cell_type": "markdown",
   "id": "5f304126-e12f-4825-b239-b07360f80c42",
   "metadata": {},
   "source": [
    "#### Stemming"
   ]
  },
  {
   "cell_type": "code",
   "execution_count": 43,
   "id": "cac57815-fa72-4cca-a2fe-3ecc3fea2971",
   "metadata": {},
   "outputs": [],
   "source": [
    "## Stem the words\n",
    "def stem_text(text_words):\n",
    "    ps = PorterStemmer()\n",
    "    stemmed_words = [ps.stem(word) for word in text_words]\n",
    "    return stemmed_words\n",
    "\n",
    "# words = [stem_text(text_words) for text_words in words]"
   ]
  },
  {
   "cell_type": "code",
   "execution_count": 44,
   "id": "a4811719-0858-4d9b-811c-37063b750e84",
   "metadata": {},
   "outputs": [
    {
     "data": {
      "text/plain": [
       "['So',\n",
       " 'there',\n",
       " 'is',\n",
       " 'no',\n",
       " 'way',\n",
       " 'for',\n",
       " 'me',\n",
       " 'to',\n",
       " 'plug',\n",
       " 'it',\n",
       " 'in',\n",
       " 'here',\n",
       " 'in',\n",
       " 'the',\n",
       " 'US',\n",
       " 'unless',\n",
       " 'I',\n",
       " 'go',\n",
       " 'by',\n",
       " 'a',\n",
       " 'converter']"
      ]
     },
     "execution_count": 44,
     "metadata": {},
     "output_type": "execute_result"
    }
   ],
   "source": [
    "words[0]"
   ]
  },
  {
   "cell_type": "code",
   "execution_count": 45,
   "id": "f256a373-3e18-4c7a-8250-379eca5b2e0a",
   "metadata": {},
   "outputs": [
    {
     "name": "stdout",
     "output_type": "stream",
     "text": [
      "['i', 'me', 'my', 'myself', 'we', 'our', 'ours', 'ourselves', 'you', \"you're\", \"you've\", \"you'll\", \"you'd\", 'your', 'yours', 'yourself', 'yourselves', 'he', 'him', 'his', 'himself', 'she', \"she's\", 'her', 'hers', 'herself', 'it', \"it's\", 'its', 'itself', 'they', 'them', 'their', 'theirs', 'themselves', 'what', 'which', 'who', 'whom', 'this', 'that', \"that'll\", 'these', 'those', 'am', 'is', 'are', 'was', 'were', 'be', 'been', 'being', 'have', 'has', 'had', 'having', 'do', 'does', 'did', 'doing', 'a', 'an', 'the', 'and', 'but', 'if', 'or', 'because', 'as', 'until', 'while', 'of', 'at', 'by', 'for', 'with', 'about', 'against', 'between', 'into', 'through', 'during', 'before', 'after', 'above', 'below', 'to', 'from', 'up', 'down', 'in', 'out', 'on', 'off', 'over', 'under', 'again', 'further', 'then', 'once', 'here', 'there', 'when', 'where', 'why', 'how', 'all', 'any', 'both', 'each', 'few', 'more', 'most', 'other', 'some', 'such', 'no', 'nor', 'not', 'only', 'own', 'same', 'so', 'than', 'too', 'very', 's', 't', 'can', 'will', 'just', 'don', \"don't\", 'should', \"should've\", 'now', 'd', 'll', 'm', 'o', 're', 've', 'y', 'ain', 'aren', \"aren't\", 'couldn', \"couldn't\", 'didn', \"didn't\", 'doesn', \"doesn't\", 'hadn', \"hadn't\", 'hasn', \"hasn't\", 'haven', \"haven't\", 'isn', \"isn't\", 'ma', 'mightn', \"mightn't\", 'mustn', \"mustn't\", 'needn', \"needn't\", 'shan', \"shan't\", 'shouldn', \"shouldn't\", 'wasn', \"wasn't\", 'weren', \"weren't\", 'won', \"won't\", 'wouldn', \"wouldn't\"]\n"
     ]
    }
   ],
   "source": [
    "print(stopwords.words(\"english\"))"
   ]
  },
  {
   "cell_type": "markdown",
   "id": "e1820459-e01c-4cfb-914e-7940ab5abf44",
   "metadata": {},
   "source": [
    "#### Remove stopwords"
   ]
  },
  {
   "cell_type": "code",
   "execution_count": 46,
   "id": "f690831e-13f6-44d3-b2b4-a1abc8c14aff",
   "metadata": {},
   "outputs": [],
   "source": [
    "def remove_stopwords(text_words):\n",
    "    return [word for word in text_words if word not in stopwords.words(\"english\")]\n",
    "\n",
    "#words = [remove_stopwords(text_words)  for text_words in words]"
   ]
  },
  {
   "cell_type": "code",
   "execution_count": 47,
   "id": "c5346234-4ef2-4812-bdff-9a88ea8f233c",
   "metadata": {},
   "outputs": [
    {
     "data": {
      "text/plain": [
       "'So there is no way for me to plug it in here in the US unless I go by a converter.'"
      ]
     },
     "execution_count": 47,
     "metadata": {},
     "output_type": "execute_result"
    }
   ],
   "source": [
    "data[0][0]"
   ]
  },
  {
   "cell_type": "code",
   "execution_count": 48,
   "id": "a3b39a6f-6c5f-4a00-aaab-8fc3f4998db8",
   "metadata": {},
   "outputs": [
    {
     "data": {
      "text/plain": [
       "['So',\n",
       " 'there',\n",
       " 'is',\n",
       " 'no',\n",
       " 'way',\n",
       " 'for',\n",
       " 'me',\n",
       " 'to',\n",
       " 'plug',\n",
       " 'it',\n",
       " 'in',\n",
       " 'here',\n",
       " 'in',\n",
       " 'the',\n",
       " 'US',\n",
       " 'unless',\n",
       " 'I',\n",
       " 'go',\n",
       " 'by',\n",
       " 'a',\n",
       " 'converter']"
      ]
     },
     "execution_count": 48,
     "metadata": {},
     "output_type": "execute_result"
    }
   ],
   "source": [
    "words[0]"
   ]
  },
  {
   "cell_type": "code",
   "execution_count": 49,
   "id": "570569e3-a922-4db6-b7c8-7378c20d5598",
   "metadata": {},
   "outputs": [],
   "source": [
    "converted_texts = [\" \".join(text_words) for text_words in words]"
   ]
  },
  {
   "cell_type": "code",
   "execution_count": 50,
   "id": "e6840691-f79e-49a2-8a6a-56a36feef120",
   "metadata": {},
   "outputs": [
    {
     "data": {
      "text/plain": [
       "'So there is no way for me to plug it in here in the US unless I go by a converter'"
      ]
     },
     "execution_count": 50,
     "metadata": {},
     "output_type": "execute_result"
    }
   ],
   "source": [
    "converted_texts[0]"
   ]
  },
  {
   "cell_type": "markdown",
   "id": "16972b69-7e61-45f0-ad22-c1093c24b430",
   "metadata": {},
   "source": [
    "#### Vocab"
   ]
  },
  {
   "cell_type": "code",
   "execution_count": 51,
   "id": "4778c6bc-1492-4f9a-a4ea-465d1f129ca0",
   "metadata": {},
   "outputs": [
    {
     "name": "stdout",
     "output_type": "stream",
     "text": [
      "{'So': 10, 'there': 13, 'is': 243, 'no': 19, 'way': 7}\n"
     ]
    }
   ],
   "source": [
    "def build_vocab(words, verbose=True):\n",
    "    vocab = {}\n",
    "    for converted_text in tqdm(words, disable = (not verbose)):\n",
    "        for word in converted_text:\n",
    "            if word in vocab:\n",
    "                vocab[word] += 1\n",
    "            else:\n",
    "                vocab[word] = 1\n",
    "    return vocab\n",
    "\n",
    "vocab = build_vocab(words, False)\n",
    "print({k: vocab[k] for k in list(vocab)[:5]})"
   ]
  },
  {
   "cell_type": "markdown",
   "id": "41f6766a-ab09-4394-9160-9ff4bdb5dc64",
   "metadata": {},
   "source": [
    "#### Tokenize"
   ]
  },
  {
   "cell_type": "code",
   "execution_count": 53,
   "id": "2ee0c547-3259-4525-b862-ce8e84c81333",
   "metadata": {},
   "outputs": [],
   "source": [
    "tokenizer_obj = Tokenizer()\n",
    "tokenizer_obj.fit_on_texts(converted_texts)"
   ]
  },
  {
   "cell_type": "code",
   "execution_count": 54,
   "id": "9a4f0816-b1a7-4ad4-9184-63daeb65e0b1",
   "metadata": {},
   "outputs": [
    {
     "name": "stdout",
     "output_type": "stream",
     "text": [
      "1906\n"
     ]
    }
   ],
   "source": [
    "vocab_size = len(tokenizer_obj.word_index) + 1\n",
    "print(vocab_size)"
   ]
  },
  {
   "cell_type": "code",
   "execution_count": 55,
   "id": "7b7f78fb-31c1-4bde-9b5c-321681ed9945",
   "metadata": {},
   "outputs": [
    {
     "name": "stdout",
     "output_type": "stream",
     "text": [
      "30\n"
     ]
    }
   ],
   "source": [
    "max_length = max([len(converted_text.split()) for converted_text in converted_texts])\n",
    "print(max_length)"
   ]
  },
  {
   "cell_type": "code",
   "execution_count": 56,
   "id": "25e54bf9-c15b-41a6-93c4-d30de1a6687f",
   "metadata": {},
   "outputs": [],
   "source": [
    "tokens = tokenizer_obj.texts_to_sequences(converted_texts)\n",
    "#print(tokens)"
   ]
  },
  {
   "cell_type": "code",
   "execution_count": 57,
   "id": "136c4250-c7ec-493e-abe9-0f10fa7aa110",
   "metadata": {},
   "outputs": [],
   "source": [
    "#### TODO: Use pretrained embeddings"
   ]
  },
  {
   "cell_type": "markdown",
   "id": "ae97cbf2-4948-46ef-8b74-fb1212752130",
   "metadata": {},
   "source": [
    "#### Pad sequences"
   ]
  },
  {
   "cell_type": "code",
   "execution_count": 58,
   "id": "f70b86c4-948e-4bc2-8318-b89de0b27abe",
   "metadata": {},
   "outputs": [
    {
     "name": "stdout",
     "output_type": "stream",
     "text": [
      "[[ 33 116   5  58 210  11  50   8 153   4  19 330  19   1 539 540   2 236\n",
      "  185   6 791   0   0   0   0   0   0   0   0   0]\n",
      " [ 21  48  53 264   0   0   0   0   0   0   0   0   0   0   0   0   0   0\n",
      "    0   0   0   0   0   0   0   0   0   0   0   0]\n",
      " [ 16  11   1 406   0   0   0   0   0   0   0   0   0   0   0   0   0   0\n",
      "    0   0   0   0   0   0   0   0   0   0   0   0]\n",
      " [792   8  83  11 407 541  84  51 793 794 139   0   0   0   0   0   0   0\n",
      "    0   0   0   0   0   0   0   0   0   0   0   0]\n",
      " [  1 331   5  16   0   0   0   0   0   0   0   0   0   0   0   0   0   0\n",
      "    0   0   0   0   0   0   0   0   0   0   0   0]]\n"
     ]
    }
   ],
   "source": [
    "padded_tokens = pad_sequences(\n",
    "    tokens, maxlen= max_length, padding=\"post\"\n",
    ")\n",
    "print(padded_tokens[:5])"
   ]
  },
  {
   "cell_type": "markdown",
   "id": "426a1e1b-4659-498f-b981-561100b8f081",
   "metadata": {},
   "source": [
    "#### Train Test Split"
   ]
  },
  {
   "cell_type": "code",
   "execution_count": 94,
   "id": "4f79a669-17c6-4f69-b7f8-19896ad23ac8",
   "metadata": {},
   "outputs": [],
   "source": [
    "X_train, X_test, Y_train, Y_test = train_test_split(padded_tokens, data[1].values, test_size = 0.3, random_state=42)"
   ]
  },
  {
   "cell_type": "code",
   "execution_count": 95,
   "id": "8206669b-2cf3-4c62-96e0-a9e2faf62d89",
   "metadata": {},
   "outputs": [],
   "source": [
    "X_val, X_test, Y_val, Y_test = train_test_split(X_test, Y_test, test_size=0.5, random_state=42)"
   ]
  },
  {
   "cell_type": "code",
   "execution_count": 96,
   "id": "738e1e77-ad76-4cee-8081-ce56f6f0f8fa",
   "metadata": {},
   "outputs": [
    {
     "name": "stdout",
     "output_type": "stream",
     "text": [
      "(700, 30)\n",
      "(150, 30)\n",
      "(150, 30)\n"
     ]
    }
   ],
   "source": [
    "print(X_train.shape)\n",
    "print(X_val.shape)\n",
    "print(X_test.shape)"
   ]
  },
  {
   "cell_type": "markdown",
   "id": "5f67f6ca-a709-43f3-beb4-a021714477fc",
   "metadata": {},
   "source": [
    "### Build the model"
   ]
  },
  {
   "cell_type": "code",
   "execution_count": 97,
   "id": "6202ebca-d64e-4044-91fe-7ef0cbd2caae",
   "metadata": {},
   "outputs": [
    {
     "name": "stdout",
     "output_type": "stream",
     "text": [
      "Model: \"sequential_3\"\n",
      "_________________________________________________________________\n",
      "Layer (type)                 Output Shape              Param #   \n",
      "=================================================================\n",
      "embedding_3 (Embedding)      (None, 30, 200)           381200    \n",
      "_________________________________________________________________\n",
      "lstm_2 (LSTM)                (None, 64)                67840     \n",
      "_________________________________________________________________\n",
      "dense_2 (Dense)              (None, 1)                 65        \n",
      "=================================================================\n",
      "Total params: 449,105\n",
      "Trainable params: 449,105\n",
      "Non-trainable params: 0\n",
      "_________________________________________________________________\n"
     ]
    }
   ],
   "source": [
    "from tensorflow.keras.models import Sequential\n",
    "from tensorflow.keras.layers import Embedding, Dense, LSTM\n",
    "\n",
    "### Hyeperparameters\n",
    "embedding_dim = 200\n",
    "lstm_out_dim = 64\n",
    "\n",
    "model= Sequential()\n",
    "model.add(Embedding(vocab_size, embedding_dim, input_length=max_length))\n",
    "model.add(LSTM(units=lstm_out_dim, dropout=0.2, recurrent_dropout=0.2))\n",
    "model.add(Dense(1, activation=\"sigmoid\"))\n",
    "model.summary()"
   ]
  },
  {
   "cell_type": "code",
   "execution_count": 98,
   "id": "6fc14c6d-58c5-4836-a6ef-3fa95c94f585",
   "metadata": {},
   "outputs": [],
   "source": [
    "### HyperParameters\n",
    "loss = \"binary_crossentropy\"\n",
    "optimizer = \"adam\"\n",
    "model.compile(loss=loss, optimizer=optimizer, metrics=[\"accuracy\"])"
   ]
  },
  {
   "cell_type": "markdown",
   "id": "7f23a313-3c37-4382-b761-243891de57b4",
   "metadata": {},
   "source": [
    "#### Model Training"
   ]
  },
  {
   "cell_type": "code",
   "execution_count": 99,
   "id": "8b439d64-298c-4734-87b0-802c4fbb6305",
   "metadata": {},
   "outputs": [
    {
     "name": "stdout",
     "output_type": "stream",
     "text": [
      "Epoch 1/50\n",
      "22/22 [==============================] - 2s 26ms/step - loss: 0.6979 - accuracy: 0.4573\n",
      "Epoch 2/50\n",
      "22/22 [==============================] - 1s 25ms/step - loss: 0.6933 - accuracy: 0.4933\n",
      "Epoch 3/50\n",
      "22/22 [==============================] - 1s 26ms/step - loss: 0.6613 - accuracy: 0.6038\n",
      "Epoch 4/50\n",
      "22/22 [==============================] - 1s 26ms/step - loss: 0.3467 - accuracy: 0.8844\n",
      "Epoch 5/50\n",
      "22/22 [==============================] - 1s 26ms/step - loss: 0.1701 - accuracy: 0.9574\n",
      "Epoch 6/50\n",
      "22/22 [==============================] - 1s 25ms/step - loss: 0.1371 - accuracy: 0.9667\n",
      "Epoch 7/50\n",
      "22/22 [==============================] - 1s 26ms/step - loss: 0.1381 - accuracy: 0.9644\n",
      "Epoch 8/50\n",
      "22/22 [==============================] - 1s 26ms/step - loss: 0.0343 - accuracy: 0.9922\n",
      "Epoch 9/50\n",
      "22/22 [==============================] - 1s 26ms/step - loss: 0.0147 - accuracy: 0.9956\n",
      "Epoch 10/50\n",
      "22/22 [==============================] - 1s 26ms/step - loss: 0.0049 - accuracy: 1.0000\n",
      "Epoch 11/50\n",
      "22/22 [==============================] - 1s 25ms/step - loss: 0.0033 - accuracy: 1.0000\n",
      "Epoch 12/50\n",
      "22/22 [==============================] - 1s 27ms/step - loss: 0.0024 - accuracy: 1.0000\n",
      "Epoch 13/50\n",
      "22/22 [==============================] - 1s 28ms/step - loss: 0.0019 - accuracy: 1.0000\n",
      "Epoch 14/50\n",
      "22/22 [==============================] - 1s 31ms/step - loss: 0.0016 - accuracy: 1.0000\n",
      "Epoch 15/50\n",
      "22/22 [==============================] - 1s 27ms/step - loss: 0.0014 - accuracy: 1.0000\n",
      "Epoch 16/50\n",
      "22/22 [==============================] - 1s 27ms/step - loss: 0.0012 - accuracy: 1.0000\n",
      "Epoch 17/50\n",
      "22/22 [==============================] - 1s 27ms/step - loss: 0.0011 - accuracy: 1.0000\n",
      "Epoch 18/50\n",
      "22/22 [==============================] - 1s 26ms/step - loss: 9.8320e-04 - accuracy: 1.0000\n",
      "Epoch 19/50\n",
      "22/22 [==============================] - 1s 26ms/step - loss: 8.5688e-04 - accuracy: 1.0000\n",
      "Epoch 20/50\n",
      "22/22 [==============================] - 1s 26ms/step - loss: 7.8288e-04 - accuracy: 1.0000\n",
      "Epoch 21/50\n",
      "22/22 [==============================] - 1s 27ms/step - loss: 6.9508e-04 - accuracy: 1.0000\n",
      "Epoch 22/50\n",
      "22/22 [==============================] - 1s 27ms/step - loss: 6.4887e-04 - accuracy: 1.0000\n",
      "Epoch 23/50\n",
      "22/22 [==============================] - 1s 27ms/step - loss: 5.9629e-04 - accuracy: 1.0000\n",
      "Epoch 24/50\n",
      "22/22 [==============================] - 1s 27ms/step - loss: 5.5701e-04 - accuracy: 1.0000\n",
      "Epoch 25/50\n",
      "22/22 [==============================] - 1s 27ms/step - loss: 4.9187e-04 - accuracy: 1.0000\n",
      "Epoch 26/50\n",
      "22/22 [==============================] - 1s 27ms/step - loss: 4.7617e-04 - accuracy: 1.0000\n",
      "Epoch 27/50\n",
      "22/22 [==============================] - 1s 26ms/step - loss: 4.4930e-04 - accuracy: 1.0000\n",
      "Epoch 28/50\n",
      "22/22 [==============================] - 1s 25ms/step - loss: 4.1417e-04 - accuracy: 1.0000\n",
      "Epoch 29/50\n",
      "22/22 [==============================] - 1s 26ms/step - loss: 3.8983e-04 - accuracy: 1.0000\n",
      "Epoch 30/50\n",
      "22/22 [==============================] - 1s 27ms/step - loss: 3.7378e-04 - accuracy: 1.0000\n",
      "Epoch 31/50\n",
      "22/22 [==============================] - 1s 28ms/step - loss: 3.4894e-04 - accuracy: 1.0000\n",
      "Epoch 32/50\n",
      "22/22 [==============================] - 1s 26ms/step - loss: 3.2248e-04 - accuracy: 1.0000\n",
      "Epoch 33/50\n",
      "22/22 [==============================] - 1s 28ms/step - loss: 3.0349e-04 - accuracy: 1.0000\n",
      "Epoch 34/50\n",
      "22/22 [==============================] - 1s 26ms/step - loss: 2.9363e-04 - accuracy: 1.0000\n",
      "Epoch 35/50\n",
      "22/22 [==============================] - 1s 25ms/step - loss: 2.7442e-04 - accuracy: 1.0000\n",
      "Epoch 36/50\n",
      "22/22 [==============================] - 1s 26ms/step - loss: 2.6239e-04 - accuracy: 1.0000\n",
      "Epoch 37/50\n",
      "22/22 [==============================] - 1s 27ms/step - loss: 2.5963e-04 - accuracy: 1.0000\n",
      "Epoch 38/50\n",
      "22/22 [==============================] - 1s 27ms/step - loss: 2.3838e-04 - accuracy: 1.0000\n",
      "Epoch 39/50\n",
      "22/22 [==============================] - 1s 27ms/step - loss: 2.3438e-04 - accuracy: 1.0000\n",
      "Epoch 40/50\n",
      "22/22 [==============================] - 1s 28ms/step - loss: 2.2195e-04 - accuracy: 1.0000\n",
      "Epoch 41/50\n",
      "22/22 [==============================] - 1s 27ms/step - loss: 2.1928e-04 - accuracy: 1.0000\n",
      "Epoch 42/50\n",
      "22/22 [==============================] - 1s 27ms/step - loss: 2.0888e-04 - accuracy: 1.0000\n",
      "Epoch 43/50\n",
      "22/22 [==============================] - 1s 28ms/step - loss: 2.0036e-04 - accuracy: 1.0000\n",
      "Epoch 44/50\n",
      "22/22 [==============================] - 1s 29ms/step - loss: 1.9104e-04 - accuracy: 1.0000\n",
      "Epoch 45/50\n",
      "22/22 [==============================] - 1s 27ms/step - loss: 1.7848e-04 - accuracy: 1.0000\n",
      "Epoch 46/50\n",
      "22/22 [==============================] - 1s 27ms/step - loss: 1.7523e-04 - accuracy: 1.0000\n",
      "Epoch 47/50\n",
      "22/22 [==============================] - 1s 28ms/step - loss: 1.7081e-04 - accuracy: 1.0000\n",
      "Epoch 48/50\n",
      "22/22 [==============================] - 1s 27ms/step - loss: 1.6316e-04 - accuracy: 1.0000\n",
      "Epoch 49/50\n",
      "22/22 [==============================] - 1s 28ms/step - loss: 1.5737e-04 - accuracy: 1.0000\n",
      "Epoch 50/50\n",
      "22/22 [==============================] - 1s 27ms/step - loss: 1.5087e-04 - accuracy: 1.0000\n"
     ]
    },
    {
     "data": {
      "text/plain": [
       "<tensorflow.python.keras.callbacks.History at 0x7f93e9acd518>"
      ]
     },
     "execution_count": 99,
     "metadata": {},
     "output_type": "execute_result"
    }
   ],
   "source": [
    "### Hyperparameters\n",
    "epochs = 50\n",
    "batch_size = 32\n",
    "\n",
    "model.fit(X_train, Y_train, epochs=epochs, batch_size=batch_size)"
   ]
  },
  {
   "cell_type": "markdown",
   "id": "aad30aad-9a8f-4afc-b473-85fa6cacf867",
   "metadata": {},
   "source": [
    "#### Model Evaluation"
   ]
  },
  {
   "cell_type": "code",
   "execution_count": 100,
   "id": "7aad52e3-d054-4ecd-b41f-bd5346cb4257",
   "metadata": {},
   "outputs": [
    {
     "name": "stdout",
     "output_type": "stream",
     "text": [
      "5/5 [==============================] - 0s 4ms/step - loss: 1.4759 - accuracy: 0.8267\n"
     ]
    }
   ],
   "source": [
    "score, acc = model.evaluate(X_val, Y_val, batch_size=batch_size)"
   ]
  },
  {
   "cell_type": "markdown",
   "id": "6f170323-eeaa-4ce0-8186-bee66291e9da",
   "metadata": {},
   "source": [
    "#### Model prediction"
   ]
  },
  {
   "cell_type": "code",
   "execution_count": 102,
   "id": "b61d839c-a495-4fd2-b285-ece970906609",
   "metadata": {},
   "outputs": [
    {
     "name": "stdout",
     "output_type": "stream",
     "text": [
      "[   2   22  354   80   11  224  375    3 1358    3   36 1359  192  321\n",
      "    3  438   12   37    0    0    0    0    0    0    0    0    0    0\n",
      "    0    0]\n",
      "1\n"
     ]
    }
   ],
   "source": [
    "sample_index=0\n",
    "print(X_test[sample_index])\n",
    "print(Y_test[sample_index])"
   ]
  },
  {
   "cell_type": "code",
   "execution_count": 103,
   "id": "d07c7110-1d58-4b51-9efd-ff3abab4b1f5",
   "metadata": {},
   "outputs": [],
   "source": [
    "text_1 = \"Received fake product original Viroprotek is blue in colour, I got this white coloured.\"\n",
    "text_2 = \"Good Product\"\n",
    "text_3 = \"RASH FACTORY!!!! DONT BUY THIS please\"\n",
    "text_4 = \"Good Product Value For money\"\n",
    "text_5 = \"Junk\"\n",
    "text_6 = \"Harmful material detected\"\n",
    "test_samples = [text_1, text_2, text_3, text_4, text_5, text_6]"
   ]
  },
  {
   "cell_type": "code",
   "execution_count": 104,
   "id": "9a41948e-b706-4da7-8b87-6ab2893b6da7",
   "metadata": {},
   "outputs": [
    {
     "data": {
      "text/plain": [
       "['Received fake product original Viroprotek is blue in colour, I got this white coloured.',\n",
       " 'Good Product',\n",
       " 'RASH FACTORY!!!! DONT BUY THIS please',\n",
       " 'Good Product Value For money',\n",
       " 'Junk',\n",
       " 'Harmful material detected']"
      ]
     },
     "execution_count": 104,
     "metadata": {},
     "output_type": "execute_result"
    }
   ],
   "source": [
    "test_samples"
   ]
  },
  {
   "cell_type": "code",
   "execution_count": 106,
   "id": "1d513e51-00f6-4359-aa16-4fe42b5bcade",
   "metadata": {},
   "outputs": [
    {
     "name": "stdout",
     "output_type": "stream",
     "text": [
      "[[ 248   24  266    5  337   19    2  137    7  589]\n",
      " [   0    0    0    0    0    0    0    0   21   24]\n",
      " [   0    0    0    0    0    0   46   88    7  735]\n",
      " [   0    0    0    0    0   21   24  264   11   85]\n",
      " [   0    0    0    0    0    0    0    0    0  207]\n",
      " [   0    0    0    0    0    0    0    0    0 1791]]\n"
     ]
    }
   ],
   "source": [
    "test_samples_tokens = tokenizer_obj.texts_to_sequences(test_samples)\n",
    "test_samples_tokens_padded = pad_sequences(test_samples_tokens)\n",
    "print(test_samples_tokens_padded)"
   ]
  },
  {
   "cell_type": "code",
   "execution_count": 107,
   "id": "838ab3a0-5daa-4b6f-844f-3c6c9499ca17",
   "metadata": {},
   "outputs": [
    {
     "name": "stdout",
     "output_type": "stream",
     "text": [
      "WARNING:tensorflow:Model was constructed with shape (None, 30) for input KerasTensor(type_spec=TensorSpec(shape=(None, 30), dtype=tf.float32, name='embedding_3_input'), name='embedding_3_input', description=\"created by layer 'embedding_3_input'\"), but it was called on an input with incompatible shape (None, 10).\n"
     ]
    },
    {
     "data": {
      "text/plain": [
       "array([[0.6129384 ],\n",
       "       [0.37713552],\n",
       "       [0.24728674],\n",
       "       [0.6529829 ],\n",
       "       [0.2749647 ],\n",
       "       [0.28143084]], dtype=float32)"
      ]
     },
     "execution_count": 107,
     "metadata": {},
     "output_type": "execute_result"
    }
   ],
   "source": [
    "predictions = model.predict(test_samples_tokens_padded)"
   ]
  },
  {
   "cell_type": "code",
   "execution_count": null,
   "id": "aa7e3248-500d-4c5e-bb76-84f0bc256795",
   "metadata": {},
   "outputs": [],
   "source": []
  }
 ],
 "metadata": {
  "kernelspec": {
   "display_name": "Python 3 (ipykernel)",
   "language": "python",
   "name": "python3"
  },
  "language_info": {
   "codemirror_mode": {
    "name": "ipython",
    "version": 3
   },
   "file_extension": ".py",
   "mimetype": "text/x-python",
   "name": "python",
   "nbconvert_exporter": "python",
   "pygments_lexer": "ipython3",
   "version": "3.7.2"
  }
 },
 "nbformat": 4,
 "nbformat_minor": 5
}
